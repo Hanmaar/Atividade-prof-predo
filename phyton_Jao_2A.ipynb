{
  "nbformat": 4,
  "nbformat_minor": 0,
  "metadata": {
    "colab": {
      "provenance": [],
      "authorship_tag": "ABX9TyOzXtl5rkLYt5WdaRp/OvS7",
      "include_colab_link": true
    },
    "kernelspec": {
      "name": "python3",
      "display_name": "Python 3"
    },
    "language_info": {
      "name": "python"
    }
  },
  "cells": [
    {
      "cell_type": "markdown",
      "metadata": {
        "id": "view-in-github",
        "colab_type": "text"
      },
      "source": [
        "<a href=\"https://colab.research.google.com/github/Hanmaar/Atividade-prof-predo/blob/main/phyton_Jao_2A.ipynb\" target=\"_parent\"><img src=\"https://colab.research.google.com/assets/colab-badge.svg\" alt=\"Open In Colab\"/></a>"
      ]
    },
    {
      "cell_type": "markdown",
      "source": [
        "## AULA 1\n"
      ],
      "metadata": {
        "id": "jdXzt8zwVgYB"
      }
    },
    {
      "cell_type": "code",
      "execution_count": 3,
      "metadata": {
        "id": "2GKsp_t27OyN",
        "colab": {
          "base_uri": "https://localhost:8080/"
        },
        "outputId": "ec1a3939-e04c-43de-e2df-89bb829f919b"
      },
      "outputs": [
        {
          "output_type": "stream",
          "name": "stdout",
          "text": [
            "competição de programação do start\n"
          ]
        }
      ],
      "source": [
        "print(\"Competição de Programação do Start\")"
      ]
    },
    {
      "cell_type": "code",
      "source": [
        "ano = \"II\"\n",
        "print(ano,\"Competição de Programação do Start\")"
      ],
      "metadata": {
        "id": "cCmkjxyTUiVz",
        "outputId": "9bd0c566-54ba-4ac3-c062-b79a9a9b2ce0",
        "colab": {
          "base_uri": "https://localhost:8080/"
        }
      },
      "execution_count": 4,
      "outputs": [
        {
          "output_type": "stream",
          "name": "stdout",
          "text": [
            "II competição de programação do start\n"
          ]
        }
      ]
    },
    {
      "cell_type": "code",
      "source": [
        "print(f\"{ano} Competição de Programação do Start\")"
      ],
      "metadata": {
        "id": "L1wPWwnsUyxh",
        "outputId": "047b2994-974d-4f82-ae89-fb098d654c6e",
        "colab": {
          "base_uri": "https://localhost:8080/"
        }
      },
      "execution_count": 5,
      "outputs": [
        {
          "output_type": "stream",
          "name": "stdout",
          "text": [
            "II Competição de Programação do Start\n"
          ]
        }
      ]
    },
    {
      "cell_type": "markdown",
      "source": [
        "## AULA 2\n",
        "Uma escola está promovendo uma campanha de incentivo à leitura, em que cada estudante recebe pontos ao concluir livros. Esses pontos podem ser trocados por diferentes prêmios da escola, e as categorias de livros têm valores diferntes de pontos:\n",
        "\n",
        "• Ficção: 8 pontos;\n",
        "• Não ficção: 8 ponto;\n",
        "• Infantis: 6 pontos.\n",
        "Rodrigo, um estudante dessa escola, leu um livro de cada categoria e, agora, quer saber quantos pontos acumulou com sua leitura. Para isso, você deve criar um programa em Python que tenha as seguintes características:\n",
        "\n",
        "• Consiga armazenar os pontos de cada categoria de livro;\n",
        "Calcule os pontos de Rodrigo;\n",
        "Apresente na tela os pontos de Rodrigo.\n",
        ""
      ],
      "metadata": {
        "id": "mpqBo2rEVv2D"
      }
    },
    {
      "cell_type": "code",
      "source": [
        "livro_ficcao = 8\n",
        "livro_n_ficcao = 10\n",
        "livro_infantil = 6\n",
        "\n",
        "\n",
        "pontos_rodrigo = livro_ficcao + livro_n_ficcao + livro_infantil\n",
        "\n",
        "print(f\"Os pontos totais do rodrigo são: {pontos_rodrigo}\")"
      ],
      "metadata": {
        "id": "46S-iOLEXL30",
        "outputId": "52685f99-4382-42e4-8353-1a121f276066",
        "colab": {
          "base_uri": "https://localhost:8080/"
        }
      },
      "execution_count": 8,
      "outputs": [
        {
          "output_type": "stream",
          "name": "stdout",
          "text": [
            "Os pontos totais do rodrigo são: 24\n"
          ]
        }
      ]
    }
  ]
}